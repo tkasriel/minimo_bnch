{
 "cells": [
  {
   "cell_type": "code",
   "execution_count": null,
   "id": "73c56cd0",
   "metadata": {},
   "outputs": [
    {
     "name": "stdout",
     "output_type": "stream",
     "text": [
      "Using theory from config: nat-mul\n",
      "Found 9 for testing\n"
     ]
    },
    {
     "name": "stderr",
     "output_type": "stream",
     "text": [
      "100%|██████████| 9/9 [00:00<00:00, 10.01it/s]\n"
     ]
    },
    {
     "name": "stdout",
     "output_type": "stream",
     "text": [
      "Using theory from config: nat-mul\n",
      "Found 11 for testing\n"
     ]
    },
    {
     "name": "stderr",
     "output_type": "stream",
     "text": [
      "100%|██████████| 11/11 [00:03<00:00,  3.08it/s]\n"
     ]
    },
    {
     "name": "stdout",
     "output_type": "stream",
     "text": [
      "Using theory from config: nat-mul\n",
      "Found 22 for testing\n"
     ]
    },
    {
     "name": "stderr",
     "output_type": "stream",
     "text": [
      "100%|██████████| 22/22 [00:18<00:00,  1.18it/s]\n"
     ]
    },
    {
     "name": "stdout",
     "output_type": "stream",
     "text": [
      "Using theory from config: nat-mul\n",
      "Found 6 for testing\n"
     ]
    },
    {
     "name": "stderr",
     "output_type": "stream",
     "text": [
      "100%|██████████| 6/6 [00:09<00:00,  1.50s/it]\n"
     ]
    },
    {
     "name": "stdout",
     "output_type": "stream",
     "text": [
      "Using theory from config: nat-mul\n",
      "Found 6 for testing\n"
     ]
    },
    {
     "name": "stderr",
     "output_type": "stream",
     "text": [
      "100%|██████████| 6/6 [00:03<00:00,  1.95it/s]\n"
     ]
    },
    {
     "name": "stdout",
     "output_type": "stream",
     "text": [
      "Using theory from config: nat-mul\n",
      "Found 5 for testing\n"
     ]
    },
    {
     "name": "stderr",
     "output_type": "stream",
     "text": [
      "100%|██████████| 5/5 [00:03<00:00,  1.35it/s]\n"
     ]
    },
    {
     "name": "stdout",
     "output_type": "stream",
     "text": [
      "Using theory from config: nat-mul\n",
      "Found 9 for testing\n"
     ]
    },
    {
     "name": "stderr",
     "output_type": "stream",
     "text": [
      "100%|██████████| 9/9 [00:00<00:00, 11.23it/s]\n"
     ]
    },
    {
     "name": "stdout",
     "output_type": "stream",
     "text": [
      "Using theory from config: nat-mul\n",
      "Found 11 for testing\n"
     ]
    },
    {
     "name": "stderr",
     "output_type": "stream",
     "text": [
      "100%|██████████| 11/11 [00:04<00:00,  2.37it/s]\n"
     ]
    },
    {
     "name": "stdout",
     "output_type": "stream",
     "text": [
      "Using theory from config: nat-mul\n",
      "Found 22 for testing\n"
     ]
    },
    {
     "name": "stderr",
     "output_type": "stream",
     "text": [
      "100%|██████████| 22/22 [00:17<00:00,  1.27it/s]\n"
     ]
    },
    {
     "name": "stdout",
     "output_type": "stream",
     "text": [
      "Using theory from config: nat-mul\n",
      "Found 6 for testing\n"
     ]
    },
    {
     "name": "stderr",
     "output_type": "stream",
     "text": [
      "100%|██████████| 6/6 [00:07<00:00,  1.17s/it]\n"
     ]
    },
    {
     "name": "stdout",
     "output_type": "stream",
     "text": [
      "Using theory from config: nat-mul\n",
      "Found 6 for testing\n"
     ]
    },
    {
     "name": "stderr",
     "output_type": "stream",
     "text": [
      "100%|██████████| 6/6 [00:02<00:00,  2.09it/s]\n"
     ]
    },
    {
     "name": "stdout",
     "output_type": "stream",
     "text": [
      "Using theory from config: nat-mul\n",
      "Found 5 for testing\n"
     ]
    },
    {
     "name": "stderr",
     "output_type": "stream",
     "text": [
      "100%|██████████| 5/5 [00:02<00:00,  2.06it/s]\n"
     ]
    },
    {
     "name": "stdout",
     "output_type": "stream",
     "text": [
      "Using theory from config: nat-mul\n",
      "Found 9 for testing\n"
     ]
    },
    {
     "name": "stderr",
     "output_type": "stream",
     "text": [
      "100%|██████████| 9/9 [00:00<00:00, 40.25it/s]\n"
     ]
    },
    {
     "name": "stdout",
     "output_type": "stream",
     "text": [
      "Using theory from config: nat-mul\n",
      "Found 11 for testing\n"
     ]
    },
    {
     "name": "stderr",
     "output_type": "stream",
     "text": [
      "100%|██████████| 11/11 [00:04<00:00,  2.62it/s]\n"
     ]
    },
    {
     "name": "stdout",
     "output_type": "stream",
     "text": [
      "Using theory from config: nat-mul\n",
      "Found 22 for testing\n"
     ]
    },
    {
     "name": "stderr",
     "output_type": "stream",
     "text": [
      "100%|██████████| 22/22 [00:13<00:00,  1.62it/s]\n"
     ]
    },
    {
     "name": "stdout",
     "output_type": "stream",
     "text": [
      "Using theory from config: nat-mul\n",
      "Found 6 for testing\n"
     ]
    },
    {
     "name": "stderr",
     "output_type": "stream",
     "text": [
      "100%|██████████| 6/6 [00:05<00:00,  1.05it/s]\n"
     ]
    },
    {
     "name": "stdout",
     "output_type": "stream",
     "text": [
      "Using theory from config: nat-mul\n",
      "Found 6 for testing\n"
     ]
    },
    {
     "name": "stderr",
     "output_type": "stream",
     "text": [
      "100%|██████████| 6/6 [00:03<00:00,  1.90it/s]\n"
     ]
    },
    {
     "name": "stdout",
     "output_type": "stream",
     "text": [
      "Using theory from config: nat-mul\n",
      "Found 5 for testing\n"
     ]
    },
    {
     "name": "stderr",
     "output_type": "stream",
     "text": [
      "100%|██████████| 5/5 [00:02<00:00,  1.88it/s]\n"
     ]
    },
    {
     "name": "stdout",
     "output_type": "stream",
     "text": [
      "Using theory from config: nat-mul\n",
      "Found 9 for testing\n"
     ]
    },
    {
     "name": "stderr",
     "output_type": "stream",
     "text": [
      "100%|██████████| 9/9 [00:00<00:00, 23.48it/s]\n"
     ]
    },
    {
     "name": "stdout",
     "output_type": "stream",
     "text": [
      "Using theory from config: nat-mul\n",
      "Found 11 for testing\n"
     ]
    },
    {
     "name": "stderr",
     "output_type": "stream",
     "text": [
      "100%|██████████| 11/11 [00:04<00:00,  2.41it/s]\n"
     ]
    },
    {
     "name": "stdout",
     "output_type": "stream",
     "text": [
      "Using theory from config: nat-mul\n",
      "Found 22 for testing\n"
     ]
    },
    {
     "name": "stderr",
     "output_type": "stream",
     "text": [
      "100%|██████████| 22/22 [00:11<00:00,  1.86it/s]\n"
     ]
    },
    {
     "name": "stdout",
     "output_type": "stream",
     "text": [
      "Using theory from config: nat-mul\n",
      "Found 6 for testing\n"
     ]
    },
    {
     "name": "stderr",
     "output_type": "stream",
     "text": [
      "100%|██████████| 6/6 [00:05<00:00,  1.08it/s]\n"
     ]
    },
    {
     "name": "stdout",
     "output_type": "stream",
     "text": [
      "Using theory from config: nat-mul\n",
      "Found 6 for testing\n"
     ]
    },
    {
     "name": "stderr",
     "output_type": "stream",
     "text": [
      "100%|██████████| 6/6 [00:02<00:00,  2.17it/s]\n"
     ]
    },
    {
     "name": "stdout",
     "output_type": "stream",
     "text": [
      "Using theory from config: nat-mul\n",
      "Found 5 for testing\n"
     ]
    },
    {
     "name": "stderr",
     "output_type": "stream",
     "text": [
      "100%|██████████| 5/5 [00:01<00:00,  3.00it/s]\n"
     ]
    },
    {
     "name": "stdout",
     "output_type": "stream",
     "text": [
      "Using theory from config: nat-mul\n",
      "Found 9 for testing\n"
     ]
    },
    {
     "name": "stderr",
     "output_type": "stream",
     "text": [
      "100%|██████████| 9/9 [00:00<00:00, 22.20it/s]\n"
     ]
    },
    {
     "name": "stdout",
     "output_type": "stream",
     "text": [
      "Using theory from config: nat-mul\n",
      "Found 11 for testing\n"
     ]
    },
    {
     "name": "stderr",
     "output_type": "stream",
     "text": [
      "100%|██████████| 11/11 [00:03<00:00,  3.32it/s]\n"
     ]
    },
    {
     "name": "stdout",
     "output_type": "stream",
     "text": [
      "Using theory from config: nat-mul\n",
      "Found 22 for testing\n"
     ]
    },
    {
     "name": "stderr",
     "output_type": "stream",
     "text": [
      "100%|██████████| 22/22 [00:11<00:00,  1.86it/s]\n"
     ]
    },
    {
     "name": "stdout",
     "output_type": "stream",
     "text": [
      "Using theory from config: nat-mul\n",
      "Found 6 for testing\n"
     ]
    },
    {
     "name": "stderr",
     "output_type": "stream",
     "text": [
      "100%|██████████| 6/6 [00:05<00:00,  1.10it/s]\n"
     ]
    },
    {
     "name": "stdout",
     "output_type": "stream",
     "text": [
      "Using theory from config: nat-mul\n",
      "Found 6 for testing\n"
     ]
    },
    {
     "name": "stderr",
     "output_type": "stream",
     "text": [
      "100%|██████████| 6/6 [00:01<00:00,  3.47it/s]\n"
     ]
    },
    {
     "name": "stdout",
     "output_type": "stream",
     "text": [
      "Using theory from config: nat-mul\n",
      "Found 5 for testing\n"
     ]
    },
    {
     "name": "stderr",
     "output_type": "stream",
     "text": [
      "100%|██████████| 5/5 [00:02<00:00,  1.76it/s]\n"
     ]
    },
    {
     "name": "stdout",
     "output_type": "stream",
     "text": [
      "Using theory from config: nat-mul\n",
      "Found 9 for testing\n"
     ]
    },
    {
     "name": "stderr",
     "output_type": "stream",
     "text": [
      "100%|██████████| 9/9 [00:00<00:00, 37.80it/s]\n"
     ]
    },
    {
     "name": "stdout",
     "output_type": "stream",
     "text": [
      "Using theory from config: nat-mul\n",
      "Found 11 for testing\n"
     ]
    },
    {
     "name": "stderr",
     "output_type": "stream",
     "text": [
      "100%|██████████| 11/11 [00:03<00:00,  3.29it/s]\n"
     ]
    },
    {
     "name": "stdout",
     "output_type": "stream",
     "text": [
      "Using theory from config: nat-mul\n",
      "Found 22 for testing\n"
     ]
    },
    {
     "name": "stderr",
     "output_type": "stream",
     "text": [
      "100%|██████████| 22/22 [00:11<00:00,  1.95it/s]\n"
     ]
    },
    {
     "name": "stdout",
     "output_type": "stream",
     "text": [
      "Using theory from config: nat-mul\n",
      "Found 6 for testing\n"
     ]
    },
    {
     "name": "stderr",
     "output_type": "stream",
     "text": [
      "100%|██████████| 6/6 [00:05<00:00,  1.18it/s]\n"
     ]
    },
    {
     "name": "stdout",
     "output_type": "stream",
     "text": [
      "Using theory from config: nat-mul\n",
      "Found 6 for testing\n"
     ]
    },
    {
     "name": "stderr",
     "output_type": "stream",
     "text": [
      "100%|██████████| 6/6 [00:01<00:00,  3.13it/s]\n"
     ]
    },
    {
     "name": "stdout",
     "output_type": "stream",
     "text": [
      "Using theory from config: nat-mul\n",
      "Found 5 for testing\n"
     ]
    },
    {
     "name": "stderr",
     "output_type": "stream",
     "text": [
      "100%|██████████| 5/5 [00:01<00:00,  2.72it/s]\n"
     ]
    }
   ],
   "source": [
    "from get_logprobs_by_model import compute_logprobs_usefulness\n",
    "\n",
    "path = \"outputs/line33\"\n",
    "\n",
    "model_its = [1, 5, 7, 9, 11, 14]\n",
    "theorems_it = [1, 5, 7, 9, 11, 14]\n",
    "\n",
    "outcomes_by_model = {it: {} for it in model_its}\n",
    "\n",
    "for model_it in model_its:\n",
    "    for theorem_it in theorems_it:\n",
    "        output = compute_logprobs_usefulness(path, model_it, theorem_it)\n",
    "        outcomes_by_model[model_it][theorem_it] = output"
   ]
  },
  {
   "cell_type": "code",
   "execution_count": 5,
   "id": "b79a8376",
   "metadata": {},
   "outputs": [
    {
     "data": {
      "image/png": "[encoded data removed]",
      "text/plain": [
       "<Figure size 600x400 with 1 Axes>"
      ]
     },
     "metadata": {},
     "output_type": "display_data"
    }
   ],
   "source": [
    "import matplotlib.pyplot as plt\n",
    "import pandas as pd\n",
    "import numpy as np\n",
    "\n",
    "# Aggregate across all theorem_its per model_it\n",
    "rows = []\n",
    "for m in model_its:\n",
    "    vals = []\n",
    "    for t in theorems_it:\n",
    "        for d in outcomes_by_model[m].get(t, []):  # list of dicts\n",
    "            vals.append(d[\"original_logprob\"])\n",
    "    mean_val = np.mean(vals) if vals else np.nan\n",
    "    rows.append({\"model_it\": m, \"mean_original_logprob\": mean_val})\n",
    "\n",
    "df = pd.DataFrame(rows).sort_values(\"model_it\")\n",
    "\n",
    "# Plot: x = model_it, y = mean original_logprob\n",
    "fig, ax = plt.subplots(figsize=(6, 4))\n",
    "ax.plot(df[\"model_it\"], df[\"mean_original_logprob\"], marker=\"o\")\n",
    "ax.set_xlabel(\"model_it\")\n",
    "ax.set_ylabel(\"mean original_logprob (aggregated over theorems)\")\n",
    "ax.set_title(\"Mean original_logprob vs. model_it\")\n",
    "ax.grid(True, alpha=0.3)\n",
    "plt.tight_layout()\n",
    "plt.show()"
   ]
  },
  {
   "cell_type": "code",
   "execution_count": 6,
   "id": "007ce5ce",
   "metadata": {},
   "outputs": [
    {
     "data": {
      "image/png": "[encoded data removed]",
      "text/plain": [
       "<Figure size 600x400 with 1 Axes>"
      ]
     },
     "metadata": {},
     "output_type": "display_data"
    }
   ],
   "source": [
    "import matplotlib.pyplot as plt\n",
    "import pandas as pd\n",
    "import numpy as np\n",
    "\n",
    "# Aggregate across all theorem_its per model_it\n",
    "rows = []\n",
    "for m in model_its:\n",
    "    vals = []\n",
    "    for t in theorems_it:\n",
    "        for d in outcomes_by_model[m].get(t, []):  # list of dicts\n",
    "            vals.append(d[\"usefulness_logprob\"])\n",
    "    mean_val = np.mean(vals) if vals else np.nan\n",
    "    rows.append({\"model_it\": m, \"usefulness_logprob\": mean_val})\n",
    "\n",
    "df = pd.DataFrame(rows).sort_values(\"model_it\")\n",
    "\n",
    "# Plot: x = model_it, y = mean original_logprob\n",
    "fig, ax = plt.subplots(figsize=(6, 4))\n",
    "ax.plot(df[\"model_it\"], df[\"usefulness_logprob\"], marker=\"o\")\n",
    "ax.set_xlabel(\"model_it\")\n",
    "ax.set_ylabel(\"mean usefulness_logprob (aggregated over theorems)\")\n",
    "ax.set_title(\"Mean usefulness_logprob vs. model_it\")\n",
    "ax.grid(True, alpha=0.3)\n",
    "plt.tight_layout()\n",
    "plt.show()"
   ]
  },
  {
   "cell_type": "code",
   "execution_count": 7,
   "id": "2930b0c3",
   "metadata": {},
   "outputs": [
    {
     "data": {
      "image/png": "[encoded data removed]",
      "text/plain": [
       "<Figure size 600x400 with 1 Axes>"
      ]
     },
     "metadata": {},
     "output_type": "display_data"
    }
   ],
   "source": [
    "import matplotlib.pyplot as plt\n",
    "import pandas as pd\n",
    "import numpy as np\n",
    "\n",
    "# Aggregate across all theorem_its per model_it\n",
    "rows = []\n",
    "for m in model_its:\n",
    "    vals = []\n",
    "    for t in theorems_it:\n",
    "        for d in outcomes_by_model[m].get(t, []):  # list of dicts\n",
    "            vals.append(d[\"improvement\"])\n",
    "    mean_val = np.mean(vals) if vals else np.nan\n",
    "    rows.append({\"model_it\": m, \"improvement\": mean_val})\n",
    "\n",
    "df = pd.DataFrame(rows).sort_values(\"model_it\")\n",
    "\n",
    "# Plot: x = model_it, y = mean original_logprob\n",
    "fig, ax = plt.subplots(figsize=(6, 4))\n",
    "ax.plot(df[\"model_it\"], df[\"improvement\"], marker=\"o\")\n",
    "ax.set_xlabel(\"model_it\")\n",
    "ax.set_ylabel(\"mean improvement (aggregated over theorems)\")\n",
    "ax.set_title(\"Mean improvement vs. model_it\")\n",
    "ax.grid(True, alpha=0.3)\n",
    "plt.tight_layout()\n",
    "plt.show()"
   ]
  }
 ],
 "metadata": {
  "kernelspec": {
   "display_name": "base",
   "language": "python",
   "name": "python3"
  },
  "language_info": {
   "codemirror_mode": {
    "name": "ipython",
    "version": 3
   },
   "file_extension": ".py",
   "mimetype": "text/x-python",
   "name": "python",
   "nbconvert_exporter": "python",
   "pygments_lexer": "ipython3",
   "version": "3.12.9"
  }
 },
 "nbformat": 4,
 "nbformat_minor": 5
}
